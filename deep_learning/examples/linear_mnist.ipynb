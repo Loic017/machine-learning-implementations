{
 "cells": [
  {
   "cell_type": "code",
   "execution_count": 1,
   "id": "646f0229",
   "metadata": {},
   "outputs": [],
   "source": [
    "import numpy as np\n",
    "import matplotlib.pyplot as plt\n",
    "import matplotlib.animation as animation\n",
    "\n",
    "from IPython.display import HTML\n",
    "\n",
    "import sys\n",
    "\n",
    "sys.path.append(\"../\")\n",
    "import loss_functions as ls\n",
    "import utils as ut\n",
    "from models import Model\n",
    "from layers import Linear, Flatten\n",
    "from activation_functions import Sigmoid, Tanh, ReLU, LeakyReLU\n",
    "\n",
    "from sklearn.model_selection import train_test_split\n",
    "from sklearn.preprocessing import MinMaxScaler, StandardScaler\n",
    "\n",
    "from tqdm import tqdm\n",
    "from collections import Counter"
   ]
  },
  {
   "cell_type": "code",
   "execution_count": 16,
   "id": "41c9117d",
   "metadata": {},
   "outputs": [
    {
     "name": "stdout",
     "output_type": "stream",
     "text": [
      "Train data shape: (48000, 784), Train labels shape: (48000, 1)\n",
      "Validation data shape: (12000, 784), Validation labels shape: (12000, 1)\n",
      "Test data shape: (10000, 784), Test labels shape: (10000, 1)\n"
     ]
    }
   ],
   "source": [
    "from torchvision import datasets, transforms\n",
    "from torch.utils.data import DataLoader, Subset\n",
    "import torch\n",
    "from collections import Counter\n",
    "\n",
    "# Define transformations to flatten and normalize the data\n",
    "transform = transforms.Compose(\n",
    "    [\n",
    "        transforms.ToTensor(),\n",
    "        transforms.Normalize((0.1307,), (0.3081,)),\n",
    "        transforms.Lambda(lambda x: x.view(-1)),\n",
    "    ]\n",
    ")\n",
    "\n",
    "# Load MNIST dataset\n",
    "train_dataset = datasets.MNIST(\n",
    "    root=\"./data\", train=True, download=True, transform=transform\n",
    ")\n",
    "test_dataset = datasets.MNIST(\n",
    "    root=\"./data\", train=False, download=True, transform=transform\n",
    ")\n",
    "\n",
    "num_classes = 10\n",
    "samples_per_class = 10000  # 10k total samples, 1k per class\n",
    "class_counts = {i: 0 for i in range(num_classes)}\n",
    "balanced_indices = []\n",
    "\n",
    "# Iterate through the dataset to collect indices\n",
    "for idx, (image, label) in enumerate(train_dataset):\n",
    "    if class_counts[label] < samples_per_class:\n",
    "        balanced_indices.append(idx)\n",
    "        class_counts[label] += 1\n",
    "    if sum(class_counts.values()) == num_classes * samples_per_class:\n",
    "        break\n",
    "\n",
    "# Create a subset using the balanced indices\n",
    "train_dataset = Subset(train_dataset, balanced_indices)\n",
    "\n",
    "# Split train dataset into train and validation sets\n",
    "train_size = int(0.8 * len(train_dataset))\n",
    "val_size = len(train_dataset) - train_size\n",
    "train_dataset, val_dataset = torch.utils.data.random_split(\n",
    "    train_dataset, [train_size, val_size]\n",
    ")\n",
    "\n",
    "# Convert datasets to NumPy arrays\n",
    "train_data = [(data.numpy(), label) for data, label in train_dataset]\n",
    "val_data = [(data.numpy(), label) for data, label in val_dataset]\n",
    "test_data = [(data.numpy(), label) for data, label in test_dataset]\n",
    "\n",
    "# Separate features and labels\n",
    "X_train, y_train = zip(*train_data)\n",
    "X_val, y_val = zip(*val_data)\n",
    "X_test, y_test = zip(*test_data)\n",
    "\n",
    "# Convert to NumPy arrays\n",
    "X_train, y_train = np.array(X_train), np.expand_dims(np.array(y_train), axis=1)\n",
    "X_val, y_val = np.array(X_val), np.expand_dims(np.array(y_val), axis=1)\n",
    "X_test, y_test = np.array(X_test), np.expand_dims(np.array(y_test), axis=1)\n",
    "\n",
    "\n",
    "print(f\"Train data shape: {X_train.shape}, Train labels shape: {y_train.shape}\")\n",
    "print(f\"Validation data shape: {X_val.shape}, Validation labels shape: {y_val.shape}\")\n",
    "print(f\"Test data shape: {X_test.shape}, Test labels shape: {y_test.shape}\")"
   ]
  },
  {
   "cell_type": "code",
   "execution_count": 17,
   "id": "333d6b1a",
   "metadata": {},
   "outputs": [
    {
     "name": "stdout",
     "output_type": "stream",
     "text": [
      "Scaled Train data shape: (48000, 784)\n",
      "Scaled Validation data shape: (12000, 784)\n",
      "Scaled Test data shape: (10000, 784)\n"
     ]
    }
   ],
   "source": [
    "scaler = MinMaxScaler()\n",
    "\n",
    "# Fit and transform the training data\n",
    "X_train_scaled = scaler.fit_transform(X_train)\n",
    "\n",
    "# Transform the validation and test data\n",
    "X_val_scaled = scaler.transform(X_val)\n",
    "X_test_scaled = scaler.transform(X_test)\n",
    "\n",
    "print(f\"Scaled Train data shape: {X_train_scaled.shape}\")\n",
    "print(f\"Scaled Validation data shape: {X_val_scaled.shape}\")\n",
    "print(f\"Scaled Test data shape: {X_test_scaled.shape}\")\n",
    "\n",
    "X_train = X_train_scaled\n",
    "X_val = X_val_scaled\n",
    "X_test = X_test_scaled"
   ]
  },
  {
   "cell_type": "code",
   "execution_count": 34,
   "id": "1c436d46",
   "metadata": {},
   "outputs": [
    {
     "name": "stdout",
     "output_type": "stream",
     "text": [
      "Training epoch 0\n",
      "Epoch 0 loss -> 2.3061065845885658\n",
      "Validation loss -> 23.47806523264456\n",
      "Training epoch 1\n",
      "Epoch 1 loss -> 2.2409459675619408\n",
      "Validation loss -> 22.766625461711506\n",
      "Training epoch 2\n",
      "Epoch 2 loss -> 2.1726810160755763\n",
      "Validation loss -> 22.060917120772157\n",
      "Training epoch 3\n",
      "Epoch 3 loss -> 2.108985667242992\n",
      "Validation loss -> 21.42236933970325\n",
      "Training epoch 4\n",
      "Epoch 4 loss -> 2.0515558261634603\n",
      "Validation loss -> 20.865414418527187\n",
      "Training epoch 5\n",
      "Epoch 5 loss -> 2.0010996924225655\n",
      "Validation loss -> 20.37759235559007\n",
      "Training epoch 6\n",
      "Epoch 6 loss -> 1.9573889073392614\n",
      "Validation loss -> 19.960797334665223\n",
      "Training epoch 7\n",
      "Epoch 7 loss -> 1.919426483573923\n",
      "Validation loss -> 19.617832952915208\n",
      "Training epoch 8\n",
      "Epoch 8 loss -> 1.8898615493255972\n",
      "Validation loss -> 19.34941491536034\n",
      "Training epoch 9\n",
      "Epoch 9 loss -> 1.8664278560217176\n",
      "Validation loss -> 19.147427799396212\n"
     ]
    }
   ],
   "source": [
    "model = Model(ls.multi_cross_entropy)\n",
    "model.add(Linear(28 * 28, 128, ReLU()))\n",
    "model.add(Linear(128, 64, ReLU()))\n",
    "model.add(Linear(64, 10, None))\n",
    "\n",
    "loss, train_predictions, test_predictions = model.fit(\n",
    "    (X_train, y_train),\n",
    "    10,\n",
    "    0.01,\n",
    "    batch_size=1024 * 5,\n",
    "    logging_predictions=True,\n",
    "    one_hot=True,\n",
    "    validation_data=(X_val, y_val),\n",
    ")"
   ]
  },
  {
   "cell_type": "code",
   "execution_count": 35,
   "id": "10149fbc",
   "metadata": {},
   "outputs": [
    {
     "data": {
      "text/plain": [
       "[<matplotlib.lines.Line2D at 0x7f1ff9504be0>]"
      ]
     },
     "execution_count": 35,
     "metadata": {},
     "output_type": "execute_result"
    },
    {
     "data": {
      "image/png": "[encoded data removed]",
      "text/plain": [
       "<Figure size 640x480 with 1 Axes>"
      ]
     },
     "metadata": {},
     "output_type": "display_data"
    }
   ],
   "source": [
    "plt.plot(loss[\"train\"], label=\"Train Loss\")\n",
    "plt.plot(loss[\"val\"], label=\"Validation Loss\")"
   ]
  },
  {
   "cell_type": "markdown",
   "id": "2d80edf8",
   "metadata": {},
   "source": [
    "# Evaluate"
   ]
  },
  {
   "cell_type": "code",
   "execution_count": 36,
   "id": "e99980ea",
   "metadata": {},
   "outputs": [
    {
     "name": "stdout",
     "output_type": "stream",
     "text": [
      "X_test shape: (10000, 784)\n",
      "Predictions shape: (10000, 10)\n",
      "Test Accuracy: 63.00%\n"
     ]
    }
   ],
   "source": [
    "print(f\"X_test shape: {X_test.shape}\")\n",
    "predictions = model.predict(X_test)  #\n",
    "print(f\"Predictions shape: {predictions.shape}\")\n",
    "correct = np.sum(np.argmax(predictions, axis=1) == np.squeeze(y_test))\n",
    "accuracy = correct / len(y_test) * 100\n",
    "print(f\"Test Accuracy: {accuracy:.2f}%\")"
   ]
  }
 ],
 "metadata": {
  "kernelspec": {
   "display_name": ".venv",
   "language": "python",
   "name": "python3"
  },
  "language_info": {
   "codemirror_mode": {
    "name": "ipython",
    "version": 3
   },
   "file_extension": ".py",
   "mimetype": "text/x-python",
   "name": "python",
   "nbconvert_exporter": "python",
   "pygments_lexer": "ipython3",
   "version": "3.10.16"
  }
 },
 "nbformat": 4,
 "nbformat_minor": 5
}
