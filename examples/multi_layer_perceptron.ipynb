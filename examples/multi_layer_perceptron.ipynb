{
 "cells": [
  {
   "cell_type": "code",
   "execution_count": 1,
   "metadata": {},
   "outputs": [],
   "source": [
    "import numpy as np\n",
    "import matplotlib.pyplot as plt\n",
    "import matplotlib.animation as animation\n",
    "\n",
    "from IPython.display import HTML\n",
    "\n",
    "import sys\n",
    "\n",
    "sys.path.append(\"../\")\n",
    "import loss_functions as ls\n",
    "from models import Model\n",
    "from layers import Linear, Flatten\n",
    "from activation_functions import Sigmoid, ReLU, Tanh, SoftMax\n",
    "\n",
    "from sklearn.model_selection import train_test_split\n",
    "from sklearn.preprocessing import MinMaxScaler\n",
    "\n",
    "from tqdm import tqdm"
   ]
  },
  {
   "cell_type": "code",
   "execution_count": 2,
   "metadata": {},
   "outputs": [
    {
     "name": "stdout",
     "output_type": "stream",
     "text": [
      "Training data shape: (64, 1, 784)\n",
      "Test data shape: (64, 1, 784)\n",
      "Labeled data shape: (64, 10), example: [0. 0. 0. 0. 0. 1. 0. 0. 0. 0.]\n"
     ]
    }
   ],
   "source": [
    "import torch\n",
    "from torchvision import datasets, transforms\n",
    "\n",
    "# Define a transform to convert the data to tensors and normalize it\n",
    "transform = transforms.Compose(\n",
    "    [transforms.ToTensor(), transforms.Normalize((0.5,), (0.5,))]\n",
    ")\n",
    "\n",
    "# Download and load the training data\n",
    "trainset = datasets.MNIST(root=\"./data\", train=True, download=True, transform=transform)\n",
    "trainloader = torch.utils.data.DataLoader(trainset, batch_size=64, shuffle=False)\n",
    "\n",
    "# Download and load the test data\n",
    "testset = datasets.MNIST(root=\"./data\", train=False, download=True, transform=transform)\n",
    "testloader = torch.utils.data.DataLoader(testset, batch_size=64, shuffle=False)\n",
    "\n",
    "# Convert the data to NumPy arrays\n",
    "train_data = next(iter(trainloader))\n",
    "x_train, y_train = train_data[0].numpy(), train_data[1].numpy()\n",
    "\n",
    "test_data = next(iter(testloader))\n",
    "x_test, y_test = test_data[0].numpy(), test_data[1].numpy()\n",
    "\n",
    "# Reshape the data to the original shape (28x28)\n",
    "x_train = x_train.reshape(-1, 28, 28)\n",
    "x_test = x_test.reshape(-1, 28, 28)\n",
    "\n",
    "# Make it [sample size, batch size (in this case 1), 28*28]\n",
    "x_train = x_train.reshape(-1, 1, 28 * 28)\n",
    "x_test = x_test.reshape(-1, 1, 28 * 28)\n",
    "\n",
    "print(f\"Training data shape: {x_train.shape}\")\n",
    "print(f\"Test data shape: {x_test.shape}\")\n",
    "\n",
    "y_train = np.eye(10)[y_train]\n",
    "\n",
    "print(f\"Labeled data shape: {y_train.shape}, example: {y_train[0]}\")"
   ]
  },
  {
   "cell_type": "code",
   "execution_count": 3,
   "metadata": {},
   "outputs": [
    {
     "name": "stdout",
     "output_type": "stream",
     "text": [
      "Linear Layer (in 784, out 128), (activation relu)\n",
      "Linear Layer (in 128, out 64), (activation relu)\n",
      "Linear Layer (in 64, out 10), (activation softmax)\n"
     ]
    }
   ],
   "source": [
    "model = Model(ls.multi_cross_entropy)\n",
    "model.add(Linear(28 * 28, 128, ReLU()))\n",
    "model.add(Linear(128, 64, ReLU()))\n",
    "model.add(Linear(64, 10, SoftMax()))\n",
    "\n",
    "print(model)"
   ]
  },
  {
   "cell_type": "code",
   "execution_count": 4,
   "metadata": {},
   "outputs": [
    {
     "name": "stdout",
     "output_type": "stream",
     "text": [
      "Train shape: (64, 1, 784), Test shape: (64, 1, 784)\n",
      "Epoch 0, Loss 1550.2536726218273\n",
      "Epoch 1, Loss nan\n",
      "Epoch 2, Loss nan\n",
      "Epoch 3, Loss nan\n",
      "Epoch 4, Loss nan\n"
     ]
    },
    {
     "name": "stderr",
     "output_type": "stream",
     "text": [
      "/home/loic/Documents/Enlightenment/ml/neural-network-from-scratch/examples/../activation_functions.py:77: RuntimeWarning: invalid value encountered in subtract\n",
      "  x_stable = x - np.max(x, axis=-1, keepdims=True)\n"
     ]
    },
    {
     "data": {
      "image/png": "[encoded data removed]",
      "text/plain": [
       "<Figure size 640x480 with 1 Axes>"
      ]
     },
     "metadata": {},
     "output_type": "display_data"
    }
   ],
   "source": [
    "print(f\"Train shape: {x_train.shape}, Test shape: {x_test.shape}\")\n",
    "\n",
    "loss = model.fit(x_train, y_train, 5, 0.001)\n",
    "\n",
    "plt.plot(loss)\n",
    "plt.show()"
   ]
  },
  {
   "cell_type": "code",
   "execution_count": null,
   "metadata": {},
   "outputs": [],
   "source": [
    "print(f\"Test Size: {len(x_test)}\")\n",
    "predictions = []\n",
    "for batch in x_test:\n",
    "    predictions.append(model.predict(batch))\n",
    "\n",
    "print(predictions)\n",
    "predictions = np.array(predictions)\n",
    "print(predictions.shape, y_test.shape)"
   ]
  },
  {
   "cell_type": "code",
   "execution_count": null,
   "metadata": {},
   "outputs": [],
   "source": [
    "accuracy = np.mean((predictions > 0.5) == y_test)\n",
    "print(f\"Accuracy: {accuracy}\")"
   ]
  }
 ],
 "metadata": {
  "kernelspec": {
   "display_name": ".venv",
   "language": "python",
   "name": "python3"
  },
  "language_info": {
   "codemirror_mode": {
    "name": "ipython",
    "version": 3
   },
   "file_extension": ".py",
   "mimetype": "text/x-python",
   "name": "python",
   "nbconvert_exporter": "python",
   "pygments_lexer": "ipython3",
   "version": "3.10.16"
  }
 },
 "nbformat": 4,
 "nbformat_minor": 2
}
